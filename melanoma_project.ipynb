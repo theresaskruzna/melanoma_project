{
  "nbformat": 4,
  "nbformat_minor": 0,
  "metadata": {
    "colab": {
      "provenance": [],
      "authorship_tag": "ABX9TyP1jJzfX3cWGvvDglv2Tklq",
      "include_colab_link": true
    },
    "kernelspec": {
      "name": "python3",
      "display_name": "Python 3"
    },
    "language_info": {
      "name": "python"
    }
  },
  "cells": [
    {
      "cell_type": "markdown",
      "metadata": {
        "id": "view-in-github",
        "colab_type": "text"
      },
      "source": [
        "<a href=\"https://colab.research.google.com/github/theresaskruzna/melanoma_project/blob/main/melanoma_project.ipynb\" target=\"_parent\"><img src=\"https://colab.research.google.com/assets/colab-badge.svg\" alt=\"Open In Colab\"/></a>"
      ]
    },
    {
      "cell_type": "code",
      "execution_count": 14,
      "metadata": {
        "colab": {
          "base_uri": "https://localhost:8080/"
        },
        "id": "1UayM4Nw2wrH",
        "outputId": "5d70f41a-c5dd-49e4-e15c-b14a18502269"
      },
      "outputs": [
        {
          "output_type": "stream",
          "name": "stdout",
          "text": [
            "Path to dataset files: /root/.cache/kagglehub/datasets/hasnainjaved/melanoma-skin-cancer-dataset-of-10000-images/versions/1\n"
          ]
        },
        {
          "output_type": "execute_result",
          "data": {
            "text/plain": [
              "['melanoma_cancer_dataset']"
            ]
          },
          "metadata": {},
          "execution_count": 14
        }
      ],
      "source": [
        "import kagglehub\n",
        "import os\n",
        "\n",
        "from PIL import Image\n",
        "import pandas as pd\n",
        "\n",
        "# Download latest version of the dataset\n",
        "path = kagglehub.dataset_download(\"hasnainjaved/melanoma-skin-cancer-dataset-of-10000-images\")\n",
        "print(\"Path to dataset files:\", path)\n",
        "\n",
        "# List all files and directories in the dataset path\n",
        "os.listdir(path)"
      ]
    },
    {
      "cell_type": "code",
      "source": [
        "# Get melanoma types from the 'train' directory\n",
        "train_melanoma_types = os.listdir(f\"{path}/melanoma_cancer_dataset/train\")\n",
        "print(\"Melanoma types in training data:\", train_melanoma_types)"
      ],
      "metadata": {
        "colab": {
          "base_uri": "https://localhost:8080/"
        },
        "id": "8948AcTNGNuu",
        "outputId": "15dec246-b478-43bf-b939-ab6fe75546cb"
      },
      "execution_count": 16,
      "outputs": [
        {
          "output_type": "stream",
          "name": "stdout",
          "text": [
            "Melanoma types in training data: ['malignant', 'benign']\n"
          ]
        }
      ]
    },
    {
      "cell_type": "code",
      "source": [
        "X_train = []\n",
        "y_train = []\n",
        "X_test = [] # List to store test images\n",
        "\n",
        "# Process training data\n",
        "# Updated to use path directly\n",
        "for kind in train_melanoma_types:\n",
        "    kind_path = os.path.join(path, 'melanoma_cancer_dataset', 'train', kind)\n",
        "    if os.path.isdir(kind_path):\n",
        "        for file in os.listdir(kind_path):\n",
        "            try:\n",
        "                X_train.append(Image.open(f\"{kind_path}/{file}\"))\n",
        "                y_train.append(kind)\n",
        "            except IOError:\n",
        "                print(f\"Error opening image: {f'{kind_path}/{file}'}\")\n",
        "\n",
        "# Process testing data (without labels)\n",
        "test_folder = os.path.join(path, 'melanoma_cancer_dataset', 'test')  # Update to your actual path\n",
        "for subfolder in os.listdir(test_folder):  # Iterate through subfolders\n",
        "    subfolder_path = os.path.join(test_folder, subfolder)\n",
        "    if os.path.isdir(subfolder_path):  # Check if it's a directory\n",
        "        for filename in os.listdir(subfolder_path):  # Iterate through files in subfolder\n",
        "            if filename.endswith((\".jpg\", \".png\", \".jpeg\")):  # Adjust image extensions if needed\n",
        "                image_path = os.path.join(subfolder_path, filename)\n",
        "                try:\n",
        "                    X_test.append(Image.open(image_path))\n",
        "                except IOError:\n",
        "                    print(f\"Error opening image: {image_path}\")\n",
        "\n",
        "print(\"Training data:\", len(X_train), len(y_train))\n",
        "print(\"Testing data:\", len(X_test))"
      ],
      "metadata": {
        "colab": {
          "base_uri": "https://localhost:8080/"
        },
        "id": "Txr2ZeT7GdI6",
        "outputId": "55302ec8-7353-4ae7-e534-5f1c351460b6"
      },
      "execution_count": 21,
      "outputs": [
        {
          "output_type": "stream",
          "name": "stdout",
          "text": [
            "Training data: 9605 9605\n",
            "Testing data: 1000\n"
          ]
        }
      ]
    }
  ]
}